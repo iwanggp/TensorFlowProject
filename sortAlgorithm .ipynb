{
 "cells": [
  {
   "cell_type": "markdown",
   "metadata": {},
   "source": [
    "用Python实现常见的排序算法\n"
   ]
  },
  {
   "cell_type": "markdown",
   "metadata": {},
   "source": [
    "# 冒泡排序\n",
    "1 比较相邻的元素如果第一个比第二个大就交换他们\n",
    "2：对每一对相邻的元素作同样的工作"
   ]
  },
  {
   "cell_type": "code",
   "execution_count": 6,
   "metadata": {},
   "outputs": [],
   "source": [
    "def buddle_sort(arr):\n",
    "    length=len(arr)\n",
    "    for i in range(length):\n",
    "        flag=True#对代码进行了优化\n",
    "        for j in range(1,length-i):#每次遍历完最后一个总是最大的数\n",
    "            if arr[j-1]>arr[j]:\n",
    "                arr[j-1],arr[j]=arr[j],arr[j-1]\n",
    "                flag=False\n",
    "        if flag:\n",
    "            return arr"
   ]
  },
  {
   "cell_type": "code",
   "execution_count": 7,
   "metadata": {},
   "outputs": [
    {
     "name": "stdout",
     "output_type": "stream",
     "text": [
      "[-988, -9, 0, 1, 2, 11, 22, 33, 45, 343, 23332]\n"
     ]
    }
   ],
   "source": [
    "arr=[11,2,343,0,-9,22,-988,33,1,23332,45]\n",
    "print(buddle_sort(arr))"
   ]
  },
  {
   "cell_type": "markdown",
   "metadata": {},
   "source": [
    "# 快速排序\n",
    "##快速排序的思想是：从数列中选择一个元素作为基准，将比基准小的元素放到左边，比基准大的元素放到右边，在这个过程结束后，该基准就位于了中间部分，最后在将大于和小于递归调用"
   ]
  },
  {
   "cell_type": "code",
   "execution_count": 20,
   "metadata": {},
   "outputs": [],
   "source": [
    "def quick_sort(arr):\n",
    "    small,pivotlist,big=[],[],[]#定义三个列表分别存放小于基准的值，基准值和大于基准的值\n",
    "    if len(arr)<=1:\n",
    "        return arr\n",
    "    else:\n",
    "        pivot=arr[0]\n",
    "        for item in arr:\n",
    "            if item<pivot:\n",
    "                small.append(item)\n",
    "            elif item>pivot:\n",
    "                big.append(item)\n",
    "            else:\n",
    "                pivotlist.append(item)\n",
    "        small=quick_sort(small)\n",
    "        big=quick_sort(big)\n",
    "    return small+pivotlist+big\n",
    "    "
   ]
  },
  {
   "cell_type": "code",
   "execution_count": 26,
   "metadata": {},
   "outputs": [
    {
     "name": "stdout",
     "output_type": "stream",
     "text": [
      "[11, 2, 343, 0, -9, 22, -988, 33, 1, 23332, 45]\n"
     ]
    },
    {
     "data": {
      "text/plain": [
       "[-988, -9, 0, 1, 2, 11, 22, 33, 45, 343, 23332]"
      ]
     },
     "execution_count": 26,
     "metadata": {},
     "output_type": "execute_result"
    }
   ],
   "source": [
    "arr=[11,2,343,0,-9,22,-988,33,1,23332,45]\n",
    "print(arr[0:])\n",
    "quick_sort(arr)\n",
    "# print（quick_sort(arr)）"
   ]
  },
  {
   "cell_type": "markdown",
   "metadata": {},
   "source": [
    "还有更经典的三行代码实现的快速排序"
   ]
  },
  {
   "cell_type": "code",
   "execution_count": 32,
   "metadata": {},
   "outputs": [],
   "source": [
    "def quick_sort(arr):\n",
    "    if len(arr)<=1:\n",
    "        return arr\n",
    "    else:\n",
    "        pivot=arr[0]\n",
    "        return quick_sort([x for x in arr[1:] if x<pivot])+\\\n",
    "        [pivot]+\\\n",
    "        quick_sort([x for x in arr[1:] if x>pivot])"
   ]
  },
  {
   "cell_type": "code",
   "execution_count": 33,
   "metadata": {},
   "outputs": [
    {
     "data": {
      "text/plain": [
       "[-988, -9, 0, 1, 2, 11, 22, 33, 45, 343, 23332]"
      ]
     },
     "execution_count": 33,
     "metadata": {},
     "output_type": "execute_result"
    }
   ],
   "source": [
    "arr=[11,2,343,0,-9,22,-988,33,1,23332,45]\n",
    "quick_sort(arr)"
   ]
  },
  {
   "cell_type": "markdown",
   "metadata": {},
   "source": [
    "# 归并排序\n",
    "主要思想：将数组中每相邻的元素进行归并操作，再将数列进行归并\n"
   ]
  },
  {
   "cell_type": "code",
   "execution_count": 42,
   "metadata": {},
   "outputs": [],
   "source": [
    "#coding:utf-8\n",
    "# 递归法\n",
    "def merge_sort(list):\n",
    "    # 认为长度不大于1的数列是有序的\n",
    "    if len(list) <= 1:\n",
    "        return list\n",
    "    # 二分列表\n",
    "    middle = len(list) // 2\n",
    "    left = merge_sort(list[:middle])\n",
    "    right = merge_sort(list[middle:])\n",
    "    # 最后一次合并\n",
    "    return merge(left, right)\n",
    "# 合并\n",
    "def merge(left, right):\n",
    "    l,r=0,0\n",
    "    result=[]\n",
    "    while l<len(left) and r<len(right):\n",
    "        if left[l] <right[r]:\n",
    "            result.append(left[l])\n",
    "            l+=1\n",
    "        else:\n",
    "            result.append(right[r])\n",
    "            r +=1\n",
    "        result +=left[l:]\n",
    "        result+=right[r:]                \n",
    "    return result"
   ]
  },
  {
   "cell_type": "code",
   "execution_count": 1,
   "metadata": {},
   "outputs": [],
   "source": [
    "arr=[11,2,343,0,-9,22,-988,33,1,23332,45]\n",
    "# merge_sort(arr)"
   ]
  },
  {
   "cell_type": "markdown",
   "metadata": {},
   "source": [
    "动态规划：其实就是求解最优解，通过将问题分割为子问题，求解子问题的最优达到最优解的目的\n"
   ]
  },
  {
   "cell_type": "code",
   "execution_count": 41,
   "metadata": {},
   "outputs": [],
   "source": [
    "price = [0, 1, 5, 8, 9, 10, 14, 17, 20, 24, 30]  \n",
    "cut_point = []  \n",
    "  \n",
    "def cut_rod(length):  \n",
    "    if length <= 0:  \n",
    "        return 0;  \n",
    "    print(price)  \n",
    "    cut_point.append(0)  \n",
    "    for i in xrange(1,length+1):  \n",
    "        result = price[i];  \n",
    "        cut_point.append(0)  \n",
    "        for j in xrange(1,i+1):  \n",
    "            if result < (price[j] + price[i-j]):  \n",
    "                result = price[j] + price[i-j]  \n",
    "                cut_point[i] = j  \n",
    "                price[i] = result  \n",
    "    print(cut_point)  \n",
    "    print(price)  \n",
    "  \n",
    "def recursiveCut(start, length):  \n",
    "    cut = cut_point[length]  \n",
    "    if cut == 0:  \n",
    "        return  \n",
    "    recursiveCut(start, cut)  \n",
    "    print(cut + start)  \n",
    "    recursiveCut(cut, length - cut)  \n",
    "  \n",
    "def getCutRodPlan(length):  \n",
    "    cut_rod(length)  \n",
    "    print(\"cut plan:\")  \n",
    "    recursiveCut(0, length)  \n"
   ]
  },
  {
   "cell_type": "markdown",
   "metadata": {},
   "source": [
    "选择排序\n",
    "原理\n",
    "选择排序（Selection sort）是一种简单直观的排序算法。它的工作原理大致是将后面的元素最小元素一个个取出然后按顺序放置。\n",
    "\n",
    "步骤\n",
    "在未排序序列中找到最小（大）元素，存放到排序序列的起始位置，\n",
    "再从剩余未排序元素中继续寻找最小（大）元素，然后放到已排序序列的末尾。\n",
    "重复第二步，直到所有元素均排序完毕。"
   ]
  },
  {
   "cell_type": "code",
   "execution_count": null,
   "metadata": {},
   "outputs": [],
   "source": [
    "def selection_sort(list):\n",
    "    n=len(list)\n",
    "   for i in range (0,n):\n",
    "       min = i\n",
    "       for j in range(i+1,n):\n",
    "           if list[j]<list[min]:\n",
    "               min=j\n",
    "               list[min],list[i]=list[i],list[min]\n",
    "   return list\n"
   ]
  }
 ],
 "metadata": {
  "kernelspec": {
   "display_name": "Python 3",
   "language": "python",
   "name": "python3"
  },
  "language_info": {
   "codemirror_mode": {
    "name": "ipython",
    "version": 3
   },
   "file_extension": ".py",
   "mimetype": "text/x-python",
   "name": "python",
   "nbconvert_exporter": "python",
   "pygments_lexer": "ipython3",
   "version": "3.6.4"
  }
 },
 "nbformat": 4,
 "nbformat_minor": 2
}
