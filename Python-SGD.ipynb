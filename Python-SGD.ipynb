{
 "cells": [
  {
   "cell_type": "code",
   "execution_count": 3,
   "metadata": {},
   "outputs": [
    {
     "name": "stdout",
     "output_type": "stream",
     "text": [
      "Tensor(\"Const_2:0\", shape=(2, 2), dtype=float32)\n",
      "[[1. 2.]\n",
      " [5. 2.]]\n",
      "shape= [2 2]\n",
      "[3. 2.]\n",
      "[1.5 3.5]\n"
     ]
    }
   ],
   "source": [
    "import tensorflow as tf    \n",
    "x=tf.constant([[1.,2.],[5.,2.]])    \n",
    "  \n",
    "xShape=tf.shape(x)\n",
    "print(x)\n",
    "z1=tf.reduce_mean(x,axis=0)#沿axis=0操作,表示沿着纵轴的方向求平均值\n",
    "z2=tf.reduce_mean(x,axis=1)#沿axis=1操作,表示沿着横轴的方向求平均值\n",
    "  \n",
    "  \n",
    "with tf.Session() as sess:\n",
    "    xShapeValue,d1,d2=sess.run([xShape,z1,z2])\n",
    "    print(sess.run(x))\n",
    "    print('shape= %s'%(xShapeValue))  \n",
    "    print(d1)  \n",
    "    print(d2)  "
   ]
  },
  {
   "cell_type": "markdown",
   "metadata": {},
   "source": [
    "Python实现随机梯度下降算法"
   ]
  },
  {
   "cell_type": "code",
   "execution_count": null,
   "metadata": {},
   "outputs": [],
   "source": [
    "def stocGradAscent1(dataMatrix,classLabels,numIter=150):#定义随机梯度下降算法\n",
    "    m,n=shape(dataMatrix)#获取训练数据集的矩阵形状\n",
    "    weights=one(n)\n",
    "    for j in range(numIter):\n",
    "        dataIndex=range(m)\n",
    "        for i in range(m):\n",
    "            alpha=4/(1.0+j+i)+0.01\n",
    "            randIndex=int(random.uniform(0,len(dataIndex)))\n",
    "            h=sigmoid(sum(dataMatrix[randIndex]*weights))#将算的值带人Sigmoid函数中\n",
    "            error=classLabels[randIndex]-h\n",
    "            weights=weights+alpha*error*dataMatrix[randIndex]\n",
    "            del(dataIndex[randIndex])\n",
    "    return weights#更新权值"
   ]
  }
 ],
 "metadata": {
  "kernelspec": {
   "display_name": "Python 3",
   "language": "python",
   "name": "python3"
  },
  "language_info": {
   "codemirror_mode": {
    "name": "ipython",
    "version": 3
   },
   "file_extension": ".py",
   "mimetype": "text/x-python",
   "name": "python",
   "nbconvert_exporter": "python",
   "pygments_lexer": "ipython3",
   "version": "3.6.4"
  }
 },
 "nbformat": 4,
 "nbformat_minor": 2
}
