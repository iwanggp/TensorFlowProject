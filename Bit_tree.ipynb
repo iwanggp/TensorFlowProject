{
 "cells": [
  {
   "cell_type": "markdown",
   "metadata": {},
   "source": [
    "用python构建一个二叉排序树，首先要构建一个节点类"
   ]
  },
  {
   "cell_type": "code",
   "execution_count": 19,
   "metadata": {},
   "outputs": [],
   "source": [
    "#coding=utf-8\n",
    "class Node:#构建一个节点类包括数据，左节点和右节点\n",
    "    def __init__(self,data,left,right):\n",
    "        self.data=data\n",
    "        self.left=left\n",
    "        self.right=right\n",
    "    "
   ]
  },
  {
   "cell_type": "markdown",
   "metadata": {},
   "source": [
    "接下来构建一个二叉排序树类，其中左子树均小于右子树"
   ]
  },
  {
   "cell_type": "code",
   "execution_count": 37,
   "metadata": {},
   "outputs": [],
   "source": [
    "class BinaryTree:\n",
    "    def __init__(self):\n",
    "        self.root=None\n",
    "    def make_tree(self,node):\n",
    "        self.root=node\n",
    "    #下面是创建一个有序树\n",
    "    def insert(self,node):\n",
    "        def insert_node(tree_node,node):\n",
    "            if tree_node.data>=node.data:\n",
    "                if tree_node.left is None:\n",
    "                    tree_node.left=node\n",
    "                else:\n",
    "                    insert_node(tree_node.left,node)\n",
    "            else:\n",
    "                if tree_node.right is None:\n",
    "                    tree_node.right=node\n",
    "                else:\n",
    "                    insert_node(tree_node.right,node)\n",
    "        insert_node(self.root,node)\n",
    "    #下面定义查找函数\n",
    "    def search(self,data):\n",
    "        def search_node(tree_node,data):\n",
    "            if tree_node.data==data:\n",
    "                print('sucess')\n",
    "                return\n",
    "            elif tree_node.data>=data:\n",
    "                if tree_node.left is None:\n",
    "                    return\n",
    "                else:\n",
    "                    search_node(tree_node.left,data)\n",
    "            else:\n",
    "                if tree_node.right is None:\n",
    "                    return\n",
    "                else:\n",
    "                    search_node(tree_node.right,data)\n",
    "                    \n",
    "        search_node(self.root,data)\n",
    "    #定义遍历函数\n",
    "    def pre_order(self):\n",
    "        lst=[]\n",
    "        def order(node):\n",
    "#             print(node.data)\n",
    "            lst.append(node.data)\n",
    "            if node.left is not None:\n",
    "                order(node.left)\n",
    "            if node.right is not None:\n",
    "                order(node.right)\n",
    "        order(self.root)\n",
    "        print(lst)\n",
    "    def in_order(self):\n",
    "        lst = []\n",
    "        def order(node):\n",
    "            if node.left is not None:\n",
    "                order(node.left)\n",
    "            # print node._data\n",
    "            lst.append(node.data)\n",
    "            if node.right is not None:\n",
    "                order(node.right)\n",
    "        order(self.root)\n",
    "        print(lst)\n",
    "\n",
    "    def post_order(self):\n",
    "        lst = []\n",
    "        def order(node):\n",
    "            if node.left is not None:\n",
    "                order(node.left)\n",
    "            if node.right is not None:\n",
    "                order(node.right)\n",
    "            # print node._data\n",
    "            lst.append(node.data)\n",
    "        order(self.root)\n",
    "        print(lst)"
   ]
  },
  {
   "cell_type": "markdown",
   "metadata": {},
   "source": [
    "二叉树已经创建好了，接下来插入一些数据"
   ]
  },
  {
   "cell_type": "code",
   "execution_count": 38,
   "metadata": {},
   "outputs": [
    {
     "name": "stdout",
     "output_type": "stream",
     "text": [
      "<__main__.BinaryTree object at 0x10b7b0e10>\n",
      "sucess\n",
      "[12, 9, 7, 3, 8, 8, 19, 16, 19, 52, 29, 20, 22, 50, 106, 70]\n",
      "[3, 7, 8, 8, 9, 12, 16, 19, 19, 20, 22, 29, 50, 52, 70, 106]\n",
      "[3, 8, 8, 7, 9, 19, 16, 22, 20, 50, 29, 70, 106, 52, 19, 12]\n"
     ]
    }
   ],
   "source": [
    "if __name__ == '__main__':\n",
    "    lst = [12, 9, 7, 19, 3, 8, 52, 106, 70, 29, 20, 16, 8, 50, 22, 19]\n",
    "    tree = BinaryTree()\n",
    "    # 生成二叉树\n",
    "    for (i, j) in enumerate(lst):\n",
    "        node = Node(j, None, None)\n",
    "        if i == 0:\n",
    "            tree.make_tree(node)\n",
    "        else:\n",
    "            tree.insert(node)\n",
    "    print(tree)\n",
    "    tree.search(70)\n",
    "    tree.pre_order()\n",
    "    tree.in_order()\n",
    "    tree.post_order()"
   ]
  },
  {
   "cell_type": "markdown",
   "metadata": {},
   "source": [
    "下面定义查找函数"
   ]
  },
  {
   "cell_type": "code",
   "execution_count": null,
   "metadata": {},
   "outputs": [],
   "source": []
  }
 ],
 "metadata": {
  "kernelspec": {
   "display_name": "Python 3",
   "language": "python",
   "name": "python3"
  },
  "language_info": {
   "codemirror_mode": {
    "name": "ipython",
    "version": 3
   },
   "file_extension": ".py",
   "mimetype": "text/x-python",
   "name": "python",
   "nbconvert_exporter": "python",
   "pygments_lexer": "ipython3",
   "version": "3.6.4"
  }
 },
 "nbformat": 4,
 "nbformat_minor": 2
}
